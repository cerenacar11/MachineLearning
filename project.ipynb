{
 "cells": [
  {
   "cell_type": "code",
   "execution_count": null,
   "id": "c5554293-df28-459a-82da-ce1300e73996",
   "metadata": {},
   "outputs": [],
   "source": [
    "import pandas as pd \n",
    "import seaborn as sns\n",
    "import numpy as np\n",
    "import statsmodels.api as sm\n",
    "import statsmodels.formula.api as smf\n",
    "from sklearn.model_selection import cross_val_score\n",
    "from sklearn.decomposition import PCA\n",
    "import matplotlib.pyplot as plt\n",
    "from sklearn.naive_bayes import GaussianNB \n",
    "from sklearn.neighbors import KNeighborsClassifier\n",
    "from sklearn.model_selection import GridSearchCV\n",
    "from sklearn.preprocessing import StandardScaler\n",
    "from sklearn.svm import SVC\n",
    "from sklearn.neural_network import MLPClassifier\n",
    "from sklearn.tree import DecisionTreeClassifier\n",
    "from sklearn import tree\n",
    "from sklearn.ensemble import RandomForestClassifier\n",
    "from sklearn.ensemble import GradientBoostingClassifier\n",
    "from xgboost import XGBClassifier\n",
    "from lightgbm import LGBMClassifier\n",
    "from catboost import CatBoostClassifier\n",
    "from sklearn.model_selection import train_test_split\n",
    "from sklearn.model_selection import learning_curve\n",
    "from sklearn.datasets import make_classification\n",
    "from sklearn.metrics import precision_score\n",
    "from sklearn.metrics import roc_auc_score\n",
    "from sklearn.metrics import roc_curve\n",
    "from sklearn.metrics import confusion_matrix\n",
    "from sklearn.neighbors import LocalOutlierFactor\n",
    "from sklearn.model_selection import train_test_split\n",
    "from sklearn.linear_model import LogisticRegression\n",
    "from sklearn.metrics import accuracy_score, classification_report\n",
    "import warnings\n",
    "warnings.filterwarnings('ignore')"
   ]
  },
  {
   "cell_type": "code",
   "execution_count": null,
   "id": "4e42cffe-a90a-4d68-a408-87757bafb053",
   "metadata": {},
   "outputs": [],
   "source": [
    "import pandas as pd \n",
    "data = pd.read_csv(\"data.csv\")\n"
   ]
  },
  {
   "cell_type": "code",
   "execution_count": null,
   "id": "9beef563-759c-49f4-badc-cd21ec629bb7",
   "metadata": {},
   "outputs": [],
   "source": [
    "df = data.copy()\n",
    "df = df.drop(['id', 'Unnamed: 32'], axis=1)\n",
    "df.head()"
   ]
  },
  {
   "cell_type": "code",
   "execution_count": null,
   "id": "cfe28898-d177-40f5-b968-07d7349b703b",
   "metadata": {},
   "outputs": [],
   "source": [
    "df.rename(columns={'concave points_worst': 'concave_points_worst',\n",
    "                   'concave points_mean': 'concave_points_mean',\n",
    "                   'concave points_se': 'concave_points_se'}, inplace=True)"
   ]
  },
  {
   "cell_type": "code",
   "execution_count": null,
   "id": "1d5480d7-efeb-4518-bc58-20a697e3ede6",
   "metadata": {},
   "outputs": [],
   "source": [
    "data.shape"
   ]
  },
  {
   "cell_type": "code",
   "execution_count": null,
   "id": "e51782d4-28c0-476c-937d-89b0e4127c66",
   "metadata": {},
   "outputs": [],
   "source": [
    "\n"
   ]
  },
  {
   "cell_type": "code",
   "execution_count": null,
   "id": "5b67a951-1736-4a53-9bfb-935b7d07b220",
   "metadata": {},
   "outputs": [],
   "source": [
    "df.isnull().sum()"
   ]
  },
  {
   "cell_type": "code",
   "execution_count": null,
   "id": "626157e4-1e33-4a7e-9986-9a550786a049",
   "metadata": {},
   "outputs": [],
   "source": [
    "df.diagnosis.unique()"
   ]
  },
  {
   "cell_type": "code",
   "execution_count": null,
   "id": "568c8556-6c42-46d2-b931-14d2445be2f8",
   "metadata": {},
   "outputs": [],
   "source": [
    "df['diagnosis'] = df['diagnosis'].replace({'B': 0, 'M': 1})"
   ]
  },
  {
   "cell_type": "code",
   "execution_count": null,
   "id": "03cc9dd2-ea03-4b3a-a779-40fe92b912cd",
   "metadata": {},
   "outputs": [],
   "source": [
    "df[\"diagnosis\"].value_counts()"
   ]
  },
  {
   "cell_type": "code",
   "execution_count": null,
   "id": "58271012-c5fd-4150-af31-18200411f08f",
   "metadata": {},
   "outputs": [],
   "source": [
    "tanı = df['diagnosis'].value_counts().reset_index()\n",
    "tanı"
   ]
  },
  {
   "cell_type": "code",
   "execution_count": null,
   "id": "2a90c4b5-6fbc-46f8-a25e-7e2032814809",
   "metadata": {
    "scrolled": true
   },
   "outputs": [],
   "source": [
    "plt.figure(figsize=(8, 6))\n",
    "ax = sns.barplot(x='diagnosis', y='count', data=tanı, palette='viridis')\n",
    "\n",
    "for p in ax.patches:\n",
    "    ax.annotate(f'{p.get_height()}', (p.get_x() + p.get_width() / 2., p.get_height()),\n",
    "                ha='center', va='center', fontsize=11, color='black', xytext=(0, 5),\n",
    "                textcoords='offset points')\n",
    "\n",
    "plt.xlabel('Tanı')\n",
    "plt.ylabel('Frekans')\n",
    "plt.title('Tanı Sayısı')\n",
    "plt.show()"
   ]
  },
  {
   "cell_type": "code",
   "execution_count": null,
   "id": "b7682ceb-9eb5-4ca6-a9e5-a89cd6d60c4e",
   "metadata": {},
   "outputs": [],
   "source": [
    "plt.figure(figsize=(20,15))\n",
    "plotnumber=1\n",
    "for column in df:\n",
    "    if plotnumber<=31:\n",
    "        ax = plt.subplot(6,6, plotnumber)\n",
    "        sns.distplot(df[column])\n",
    "        plt.xlabel(column)\n",
    "    plotnumber+=1\n",
    "\n",
    "plt.tight_layout()\n",
    "plt.show()"
   ]
  },
  {
   "cell_type": "code",
   "execution_count": null,
   "id": "8c8661cc-0663-4569-b9ee-74343b9a328c",
   "metadata": {},
   "outputs": [],
   "source": [
    "plt.hist(df['diagnosis'], bins=10, color='skyblue', edgecolor='black')\n",
    "\n",
    "# Histogram başlığı ve eksen etiketleri\n",
    "plt.title('Öznitelik Dağılımı')\n",
    "plt.xlabel('Değerler')\n",
    "plt.ylabel('Frekans')\n",
    "\n",
    "# Histogramı göster\n",
    "plt.show()"
   ]
  },
  {
   "cell_type": "code",
   "execution_count": null,
   "id": "7019ceb2-625d-4fb4-8960-4ef8b0ab9de9",
   "metadata": {},
   "outputs": [],
   "source": [
    "sns.kdeplot(df['diagnosis'], shade=True)\n",
    "\n",
    "# Yoğunluk grafiği başlığı ve eksen etiketleri\n",
    "plt.title('Öznitelik Yoğunluk Dağılımı')\n",
    "plt.xlabel('Değerler')\n",
    "plt.ylabel('Yoğunluk')\n",
    "\n",
    "# Yoğunluk grafiğini göster\n",
    "plt.show()"
   ]
  },
  {
   "cell_type": "code",
   "execution_count": null,
   "id": "55dc84e7-5d89-4337-9351-d36cd1d9c2d8",
   "metadata": {},
   "outputs": [],
   "source": [
    "df.corr()"
   ]
  },
  {
   "cell_type": "code",
   "execution_count": null,
   "id": "b6bfdd74-b8c9-4d02-9e49-7d1fc1d9ea24",
   "metadata": {},
   "outputs": [],
   "source": [
    "plt.figure(figsize=(20, 12))\n",
    "sns.heatmap(df.corr(), annot=True, cmap='viridis', fmt=\".2f\")\n",
    "plt.title('Correlation Matrix')\n",
    "plt.show()"
   ]
  },
  {
   "cell_type": "code",
   "execution_count": null,
   "id": "7c2746d9-697e-49fb-bc93-68f24e2ba030",
   "metadata": {},
   "outputs": [],
   "source": [
    "import matplotlib.pyplot as plt\n",
    "\n",
    "# Kategorik değişkenin sıklığını hesapla\n",
    "kategori_sayisi = df['diagnosis'].value_counts()\n",
    "\n",
    "# Pasta grafiği oluştur\n",
    "kategori_sayisi.plot(kind='pie', autopct='%1.1f%%', colors=['skyblue', 'orange', 'green'])\n",
    "\n",
    "# Grafik başlığı\n",
    "plt.title('Kategorik Değişkenin Dağılımı')\n",
    "\n",
    "# Pasta grafiğini göster\n",
    "plt.show()"
   ]
  },
  {
   "cell_type": "code",
   "execution_count": null,
   "id": "9704823c-a204-4ce4-873d-25de6967320c",
   "metadata": {},
   "outputs": [],
   "source": [
    "corr_matrix = df.corr().abs()\n",
    "mask = np.triu(np.ones_like(corr_matrix, dtype=bool))\n",
    "tri_df = corr_matrix.mask(mask)\n",
    "\n",
    "to_drop = [x for x in tri_df.columns if any(tri_df[x]>0.92)]\n",
    "\n",
    "df = df.drop(to_drop, axis=1)\n",
    "\n",
    "print(df.shape[1])"
   ]
  },
  {
   "cell_type": "code",
   "execution_count": null,
   "id": "69f33968-460c-4972-a713-0952d6b99532",
   "metadata": {},
   "outputs": [],
   "source": [
    "y = df[\"diagnosis\"]\n",
    "X = df.drop([\"diagnosis\"], axis = 1)\n",
    "columns = X.columns.tolist()"
   ]
  },
  {
   "cell_type": "code",
   "execution_count": null,
   "id": "d936974a-a460-4353-87e4-1b67a0af4c9d",
   "metadata": {},
   "outputs": [],
   "source": [
    "lof = LocalOutlierFactor()\n",
    "lof.fit(X)\n",
    "\n",
    "# Get the negative outlier factor scores\n",
    "X_score = lof.negative_outlier_factor_\n",
    "\n",
    "# Create a scatter plot of the data points\n",
    "plt.figure(figsize=(8, 6))\n",
    "plt.scatter(X.iloc[:, 0], X.iloc[:, 1], color=\"k\", s=3, label=\"Data Point\")\n",
    "\n",
    "# Calculate the radius for each point based on the outlier score\n",
    "radius = (X_score.max() - X_score) / (X_score.max() - X_score.min())\n",
    "\n",
    "# Plot the points with sizes corresponding to the outlier score\n",
    "plt.scatter(X.iloc[:, 0], X.iloc[:, 1], s=1000 * radius, edgecolors=\"r\", facecolors=\"none\", label=\"Outlier Score\")\n",
    "\n",
    "plt.xlabel(columns[0])\n",
    "plt.ylabel(columns[1])\n",
    "plt.legend()\n",
    "plt.grid(True)\n",
    "plt.title('Outlier Detection using Local Outlier Factor (LOF)')\n",
    "plt.show()\n",
    "\n",
    "# Threshold for outlier detection\n",
    "threshold_outlier = -2.5\n",
    "filtre = X_score < threshold_outlier\n",
    "outlier_index = np.where(filtre)[0]\n",
    "print(\"Outlier indices:\", outlier_index)"
   ]
  },
  {
   "cell_type": "code",
   "execution_count": null,
   "id": "c9be7647-3f66-45c9-a70c-010af55b52e0",
   "metadata": {},
   "outputs": [],
   "source": [
    "plt.figure(figsize=(10, 10))\n",
    "\n",
    "# Plot outliers in blue\n",
    "plt.scatter(X.iloc[outlier_index, 0], X.iloc[outlier_index, 1], color=\"blue\", s=50, label=\"Outliers\")\n",
    "\n",
    "# Plot all data points\n",
    "plt.scatter(X.iloc[:, 0], X.iloc[:, 1], color=\"k\", s=3, label=\"Data Point\")\n",
    "\n",
    "# Plot outlier scores with sizes corresponding to the outlier score\n",
    "plt.scatter(X.iloc[:, 0], X.iloc[:, 1], s=1000 * radius, edgecolors=\"r\", facecolors=\"none\", label=\"Outlier Score\")\n",
    "\n",
    "plt.xlabel(columns[0])\n",
    "plt.ylabel(columns[1])\n",
    "plt.legend()\n",
    "plt.grid(True)\n",
    "plt.title('Outlier Detection using Local Outlier Factor (LOF)')\n",
    "plt.show()"
   ]
  },
  {
   "cell_type": "code",
   "execution_count": null,
   "id": "b0a41437-9ff4-4d84-9d43-3aebfa664ee0",
   "metadata": {},
   "outputs": [],
   "source": [
    "X = X.drop(outlier_index)\n",
    "y = y.drop(outlier_index).values"
   ]
  },
  {
   "cell_type": "code",
   "execution_count": null,
   "id": "4e191f34-082d-496e-a283-d8ec6437b454",
   "metadata": {},
   "outputs": [],
   "source": [
    "X_standardized = (X - X.mean()) / X.std()\n",
    "\n",
    "# Apply PCA without specifying the number of components\n",
    "pca = PCA()\n",
    "pca.fit(X_standardized)\n",
    "\n",
    "# Calculate explained variance ratio\n",
    "explained_variance_ratio = pca.explained_variance_ratio_\n",
    "\n",
    "# Find the optimal number of components\n",
    "cumulative_variance_ratio = np.cumsum(explained_variance_ratio)\n",
    "optimal_components = np.argmax(cumulative_variance_ratio >= 0.95) + 1\n",
    "\n",
    "# Plot explained variance ratio\n",
    "plt.figure(figsize=(8, 6))\n",
    "plt.plot(np.cumsum(explained_variance_ratio), marker='o', linestyle='-')\n",
    "plt.xlabel('Bileşen Sayısı')\n",
    "plt.ylabel('Kümülatif Açıklanan Varyans Oranı')\n",
    "plt.title('PCA Açıklanan Varyans Oranı')\n",
    "\n",
    "# Annotate the plot with the optimal number of components\n",
    "plt.annotate(f'Optimal Components: {optimal_components}', \n",
    "             xy=(optimal_components, cumulative_variance_ratio[optimal_components-1]),\n",
    "             xytext=(optimal_components + 2, cumulative_variance_ratio[optimal_components-1] - 0.05),\n",
    "             arrowprops=dict(facecolor='black', arrowstyle='->'),\n",
    "             fontsize=12)\n",
    "\n",
    "plt.grid(True)\n",
    "plt.show()"
   ]
  },
  {
   "cell_type": "code",
   "execution_count": null,
   "id": "aad08684-1d3b-4096-923d-88a9a2e078b4",
   "metadata": {},
   "outputs": [],
   "source": [
    "pca = PCA(n_components=10)\n",
    "principal_components = pca.fit_transform(X_standardized)\n",
    "\n",
    "# Create a DataFrame to hold the principal components\n",
    "principal_df = pd.DataFrame(data=principal_components, columns=[f'PC{i}' for i in range(1, 11)])\n",
    "\n",
    "# Concatenate principal components with the target variable\n",
    "final_df = pd.concat([principal_df, pd.DataFrame(y, columns=['target'])], axis=1)\n",
    "\n",
    "# Plot the PCA result\n",
    "plt.figure(figsize=(8, 6))\n",
    "sns.scatterplot(x='PC1', y='PC2', hue='target', data=final_df, palette='Set1')\n",
    "plt.title('PCA Görselleştirme (Optimal Bileşenler)')\n",
    "plt.xlabel('Ana Bileşen 1')\n",
    "plt.ylabel('Ana Bileşen 2')\n",
    "plt.legend(title='Target', loc='upper right')\n",
    "plt.show()"
   ]
  },
  {
   "cell_type": "code",
   "execution_count": null,
   "id": "963dd71c-621a-4cdd-87c2-6f0ecec11680",
   "metadata": {},
   "outputs": [],
   "source": [
    "df.info()"
   ]
  },
  {
   "cell_type": "code",
   "execution_count": null,
   "id": "7c383627-1434-4bdf-827c-b7c927c69a86",
   "metadata": {},
   "outputs": [],
   "source": [
    "X_train, X_test, y_train, y_test = train_test_split(X, y,\n",
    "                                                    test_size=0.2,\n",
    "                                                    random_state=42)"
   ]
  },
  {
   "cell_type": "code",
   "execution_count": null,
   "id": "7e4c004e-db55-471c-b1cb-0bf8eeffcd6c",
   "metadata": {},
   "outputs": [],
   "source": [
    "scaler = StandardScaler()\n",
    "X_train = scaler.fit_transform(X_train)\n",
    "X_test = scaler.transform(X_test)"
   ]
  },
  {
   "cell_type": "code",
   "execution_count": null,
   "id": "a33d538c-d7fd-4a53-97f9-87573853294e",
   "metadata": {},
   "outputs": [],
   "source": [
    "X_train.shape"
   ]
  },
  {
   "cell_type": "code",
   "execution_count": null,
   "id": "c62ea749-b032-4f80-86af-093f27a2d613",
   "metadata": {},
   "outputs": [],
   "source": [
    "loj_model = LogisticRegression()\n",
    "loj_model.fit(X_train, y_train)"
   ]
  },
  {
   "cell_type": "code",
   "execution_count": null,
   "id": "6e893f58-5fa4-4109-9a6f-3067fdba81f4",
   "metadata": {},
   "outputs": [],
   "source": [
    "y_pred = loj_model.predict(X_test)"
   ]
  },
  {
   "cell_type": "code",
   "execution_count": null,
   "id": "18223c5a-91ea-4a86-b04f-c93f83b3ab72",
   "metadata": {},
   "outputs": [],
   "source": [
    "y_pred"
   ]
  },
  {
   "cell_type": "code",
   "execution_count": null,
   "id": "3874ae4e-7729-48af-bd75-5c435465afcd",
   "metadata": {},
   "outputs": [],
   "source": [
    "accuracy = accuracy_score(y_test, y_pred)\n",
    "print(\"Accuracy:\", accuracy)"
   ]
  },
  {
   "cell_type": "code",
   "execution_count": null,
   "id": "ba332c95-50a5-4cbb-85e0-dee2ea577766",
   "metadata": {},
   "outputs": [],
   "source": [
    "y_test"
   ]
  },
  {
   "cell_type": "code",
   "execution_count": null,
   "id": "8d7a6303-5455-4e88-aadb-c7bc80975683",
   "metadata": {},
   "outputs": [],
   "source": [
    "y_pred\n"
   ]
  },
  {
   "cell_type": "code",
   "execution_count": null,
   "id": "7e43f2ef-947c-4c57-b826-93f8a685343a",
   "metadata": {},
   "outputs": [],
   "source": [
    "from sklearn.metrics import confusion_matrix\n",
    "\n",
    "# Modelinizin tahminlerini kullanarak confusion matrix'i hesaplayın\n",
    "conf_matrix = confusion_matrix(y_test, y_pred)\n",
    "\n",
    "# Oluşturulan confusion matrix'i ekrana yazdırın\n",
    "print(\"Confusion Matrix:\")\n",
    "print(conf_matrix)"
   ]
  },
  {
   "cell_type": "code",
   "execution_count": null,
   "id": "857c105a-6ba9-4c33-848f-28061acbae67",
   "metadata": {},
   "outputs": [],
   "source": [
    "plt.imshow(conf_matrix, interpolation='nearest', cmap=plt.cm.Blues)\n",
    "plt.title('Confusion Matrix (Logistic Regression)')\n",
    "plt.colorbar()\n",
    "sınıf = ['İyi Huylu (0)', 'Kötü Huylu (1)']\n",
    "# Sütun ve satır etiketleri\n",
    "plt.xticks(np.arange(len(sınıf)), sınıf)\n",
    "plt.yticks(np.arange(len(sınıf)), sınıf)\n",
    "\n",
    "# Değerlerin gösterilmesi\n",
    "for i in range(len(sınıf)):\n",
    "    for j in range(len(sınıf)):\n",
    "\n",
    "        plt.text(j, i, str(conf_matrix[i, j]), horizontalalignment='center', color='white' if conf_matrix[i, j] > conf_matrix.max() / 2 else 'black')\n",
    "plt.xlabel('Tahmin Edilen Değer')\n",
    "plt.ylabel('Gerçek Değer')\n",
    "plt.show()"
   ]
  },
  {
   "cell_type": "code",
   "execution_count": null,
   "id": "16518413-18e8-488d-a106-064b954f8af7",
   "metadata": {},
   "outputs": [],
   "source": [
    "y_pred_test = loj_model.predict_proba(X_test)[:, 1]\n",
    "fpr_test, tpr_test, thresholds_test = roc_curve(y_test, y_pred_test)\n",
    "roc_auc_test = roc_auc_score(y_test, y_pred_test)\n",
    "plt.figure(figsize=(8, 6))\n",
    "plt.plot(fpr_test, tpr_test, label=f'AUC (Test) = {roc_auc_test:.2f}')\n",
    "plt.plot([0, 1], [0, 1], color='red', linestyle='--')\n",
    "plt.xlim([0.0, 1.0])\n",
    "plt.ylim([0.0, 1.05])\n",
    "plt.xlabel('False Positive Rate')\n",
    "plt.ylabel('True Positive Rate')\n",
    "plt.title('ROC Curve (Test)')\n",
    "plt.legend(loc='lower right')\n",
    "plt.show()"
   ]
  },
  {
   "cell_type": "code",
   "execution_count": null,
   "id": "5836f19d-2d38-4714-8885-16fa7113bfd8",
   "metadata": {},
   "outputs": [],
   "source": [
    "nb_model = GaussianNB()\n",
    "nb_model.fit(X_train, y_train)"
   ]
  },
  {
   "cell_type": "code",
   "execution_count": null,
   "id": "39a82f3e-f3ba-4d07-81f9-af9d313a8705",
   "metadata": {},
   "outputs": [],
   "source": [
    "y_pred = nb_model.predict(X_test)"
   ]
  },
  {
   "cell_type": "code",
   "execution_count": null,
   "id": "4e3625df-d80a-42a5-bdd5-b0c8b713f4f3",
   "metadata": {},
   "outputs": [],
   "source": [
    "y_pred"
   ]
  },
  {
   "cell_type": "code",
   "execution_count": null,
   "id": "362e6c1a-46dc-4c06-9dac-df0b32a3ae94",
   "metadata": {},
   "outputs": [],
   "source": [
    "accuracy = accuracy_score(y_test, y_pred)\n",
    "print(\"Accuracy:\", accuracy)"
   ]
  },
  {
   "cell_type": "code",
   "execution_count": null,
   "id": "f31437cc-49ed-4ac0-a851-3012d00601a1",
   "metadata": {},
   "outputs": [],
   "source": [
    "from sklearn.metrics import confusion_matrix\n",
    "conf_matrix = confusion_matrix(y_test, y_pred)\n",
    "print(\"Confusion Matrix:\")\n",
    "print(conf_matrix)"
   ]
  },
  {
   "cell_type": "code",
   "execution_count": null,
   "id": "83e757d9-d992-4b73-85ba-ce2c74e5244a",
   "metadata": {},
   "outputs": [],
   "source": [
    "plt.imshow(conf_matrix, interpolation='nearest', cmap=plt.cm.Blues)\n",
    "plt.title('Confusion Matrix (Naive Bayes)')\n",
    "plt.colorbar()\n",
    "sınıf = ['İyi Huylu (0)', 'Kötü Huylu (1)']\n",
    "# Sütun ve satır etiketleri\n",
    "plt.xticks(np.arange(len(sınıf)), sınıf)\n",
    "plt.yticks(np.arange(len(sınıf)), sınıf)\n",
    "\n",
    "# Değerlerin gösterilmesi\n",
    "for i in range(len(sınıf)):\n",
    "    for j in range(len(sınıf)):\n",
    "        plt.text(j, i, str(conf_matrix[i, j]), horizontalalignment='center', color='white' if conf_matrix[i, j] > conf_matrix.max() / 2 else 'black')\n",
    "\n",
    "plt.xlabel('Tahmin Edilen Değer')\n",
    "plt.ylabel('Gerçek Değer')\n",
    "plt.show()"
   ]
  },
  {
   "cell_type": "code",
   "execution_count": null,
   "id": "0ec4c5fd-0ea1-498b-8ee7-3dcbe07eb2fd",
   "metadata": {},
   "outputs": [],
   "source": [
    "knn_model = KNeighborsClassifier()\n",
    "knn_model.fit(X_train, y_train)"
   ]
  },
  {
   "cell_type": "code",
   "execution_count": null,
   "id": "1ed23671-fc5f-4020-980b-79af090bba61",
   "metadata": {},
   "outputs": [],
   "source": [
    "y_pred = knn_model.predict(X_test)"
   ]
  },
  {
   "cell_type": "code",
   "execution_count": null,
   "id": "f42fa540-52c2-455b-9885-fd053a00c5dd",
   "metadata": {},
   "outputs": [],
   "source": [
    "y_pred"
   ]
  },
  {
   "cell_type": "code",
   "execution_count": null,
   "id": "8b71ca9b-9d61-483e-a2b6-712e55a55ddb",
   "metadata": {},
   "outputs": [],
   "source": [
    "accuracy = accuracy_score(y_test, y_pred)\n",
    "print(\"Accuracy:\", accuracy)"
   ]
  },
  {
   "cell_type": "code",
   "execution_count": null,
   "id": "5963469c-69b5-433f-98dd-6ce02c25ff86",
   "metadata": {},
   "outputs": [],
   "source": [
    "from sklearn.metrics import confusion_matrix\n",
    "conf_matrix = confusion_matrix(y_test, y_pred)\n",
    "print(\"Confusion Matrix:\")\n",
    "print(conf_matrix)"
   ]
  },
  {
   "cell_type": "code",
   "execution_count": null,
   "id": "5f59acaf-6fa9-4846-a724-90f9f65426e0",
   "metadata": {},
   "outputs": [],
   "source": [
    "plt.imshow(conf_matrix, interpolation='nearest', cmap=plt.cm.Blues)\n",
    "plt.title('Confusion Matrix (KNN)')\n",
    "plt.colorbar()\n",
    "sınıf = ['İyi Huylu (0)', 'Kötü Huylu (1)']\n",
    "# Sütun ve satır etiketleri\n",
    "plt.xticks(np.arange(len(sınıf)), sınıf)\n",
    "plt.yticks(np.arange(len(sınıf)), sınıf)\n",
    "\n",
    "# Değerlerin gösterilmesi\n",
    "for i in range(len(sınıf)):\n",
    "    for j in range(len(sınıf)):\n",
    "        plt.text(j, i, str(conf_matrix[i, j]), horizontalalignment='center', color='white' if conf_matrix[i, j] > conf_matrix.max() / 2 else 'black')\n",
    "\n",
    "plt.xlabel('Tahmin Edilen Değer')\n",
    "plt.ylabel('Gerçek Değer')\n",
    "plt.show()"
   ]
  },
  {
   "cell_type": "code",
   "execution_count": null,
   "id": "ee393cab-6b8b-459d-9a8b-e5d811e4a197",
   "metadata": {},
   "outputs": [],
   "source": [
    "knn = KNeighborsClassifier()\n",
    "knn_params = {\"n_neighbors\": np.arange(1, 10)}"
   ]
  },
  {
   "cell_type": "code",
   "execution_count": null,
   "id": "ec9fcd6a-8936-4240-bab6-7312e0c64bb7",
   "metadata": {},
   "outputs": [],
   "source": [
    "knn_cv = GridSearchCV(knn, knn_params, cv=10)"
   ]
  },
  {
   "cell_type": "code",
   "execution_count": null,
   "id": "61a55c5d-a4fe-48ff-8bd3-f674cb22042a",
   "metadata": {},
   "outputs": [],
   "source": [
    "knn_cv.fit(X_train, y_train)"
   ]
  },
  {
   "cell_type": "code",
   "execution_count": null,
   "id": "bc29b644-d537-4870-9073-a4121a278f1e",
   "metadata": {},
   "outputs": [],
   "source": [
    "print(\"En iyi parametreler:\", knn_cv.best_params_)\n",
    "print(\"En iyi skor:\", knn_cv.best_score_)\n",
    "\n",
    "test_score = knn_cv.score(X_test, y_test)\n",
    "print(\"Test seti skoru:\", test_score)"
   ]
  },
  {
   "cell_type": "code",
   "execution_count": null,
   "id": "e8bcbc4c-86a9-45f6-b095-79dba8335a9c",
   "metadata": {},
   "outputs": [],
   "source": [
    "knn = KNeighborsClassifier(5)\n",
    "knn.fit(X_train, y_train)"
   ]
  },
  {
   "cell_type": "code",
   "execution_count": null,
   "id": "f8ebbf85-05de-47ac-b825-29c8aab82762",
   "metadata": {},
   "outputs": [],
   "source": [
    "y_pred = knn.predict(X_test)"
   ]
  },
  {
   "cell_type": "code",
   "execution_count": null,
   "id": "5e2fd352-33fa-43ce-92d4-97cd77dbc8d5",
   "metadata": {},
   "outputs": [],
   "source": [
    "accuracy = accuracy_score(y_test, y_pred)\n",
    "print(\"Accuracy:\", accuracy)"
   ]
  },
  {
   "cell_type": "code",
   "execution_count": null,
   "id": "3055457b-c4e5-4ce4-9d9c-5df846810f31",
   "metadata": {},
   "outputs": [],
   "source": [
    "from sklearn.metrics import confusion_matrix\n",
    "conf_matrix = confusion_matrix(y_test, y_pred)\n",
    "print(\"Confusion Matrix:\")\n",
    "print(conf_matrix)"
   ]
  },
  {
   "cell_type": "code",
   "execution_count": null,
   "id": "baa65ccc-bc99-4650-b7d2-1110a2ab73f6",
   "metadata": {},
   "outputs": [],
   "source": [
    "plt.imshow(conf_matrix, interpolation='nearest', cmap=plt.cm.Blues)\n",
    "plt.title('Confusion Matrix (Tuned KNN)')\n",
    "plt.colorbar()\n",
    "sınıf = ['İyi Huylu (0)', 'Kötü Huylu (1)']\n",
    "plt.xticks(np.arange(len(sınıf)), sınıf)\n",
    "plt.yticks(np.arange(len(sınıf)), sınıf)\n",
    "for i in range(len(sınıf)):\n",
    "    for j in range(len(sınıf)):\n",
    "        plt.text(j, i, str(conf_matrix[i, j]), horizontalalignment='center', color='white' if conf_matrix[i, j] > conf_matrix.max() / 2 else 'black')\n",
    "\n",
    "plt.xlabel('Tahmin Edilen Değer')\n",
    "plt.ylabel('Gerçek Değer')\n",
    "plt.show()"
   ]
  },
  {
   "cell_type": "code",
   "execution_count": null,
   "id": "839c1884-172a-4807-b956-27ef919662b2",
   "metadata": {},
   "outputs": [],
   "source": [
    "svc_model = SVC()"
   ]
  },
  {
   "cell_type": "code",
   "execution_count": null,
   "id": "daad771a-399b-4310-b195-bc9edacf8e56",
   "metadata": {},
   "outputs": [],
   "source": [
    "svc_model.fit(X_train, y_train)"
   ]
  },
  {
   "cell_type": "code",
   "execution_count": null,
   "id": "fac51ff4-a414-4a7a-aafe-2e0ecb0f0323",
   "metadata": {},
   "outputs": [],
   "source": [
    "y_pred = svc_model.predict(X_test)"
   ]
  },
  {
   "cell_type": "code",
   "execution_count": null,
   "id": "691359c1-2152-48b6-bfae-df77d97bd09f",
   "metadata": {},
   "outputs": [],
   "source": [
    "accuracy = accuracy_score(y_test, y_pred)\n",
    "print(\"Accuracy:\", accuracy)"
   ]
  },
  {
   "cell_type": "code",
   "execution_count": null,
   "id": "1f5ae08d-9806-4233-ba5f-9f79cdb5f8ec",
   "metadata": {},
   "outputs": [],
   "source": [
    "from sklearn.metrics import confusion_matrix\n",
    "conf_matrix = confusion_matrix(y_test, y_pred)\n",
    "print(\"Confusion Matrix:\")\n",
    "print(conf_matrix)"
   ]
  },
  {
   "cell_type": "code",
   "execution_count": null,
   "id": "320aba23-112d-4a1d-97c6-4e03a32bd57c",
   "metadata": {},
   "outputs": [],
   "source": [
    "plt.imshow(conf_matrix, interpolation='nearest', cmap=plt.cm.Blues)\n",
    "plt.title('Confusion Matrix (SVC)')\n",
    "plt.colorbar()\n",
    "sınıf = ['İyi Huylu (0)', 'Kötü Huylu (1)']\n",
    "plt.xticks(np.arange(len(sınıf)), sınıf)\n",
    "plt.yticks(np.arange(len(sınıf)), sınıf)\n",
    "for i in range(len(sınıf)):\n",
    "    for j in range(len(sınıf)):\n",
    "        plt.text(j, i, str(conf_matrix[i, j]), horizontalalignment='center', color='white' if conf_matrix[i, j] > conf_matrix.max() / 2 else 'black')\n",
    "\n",
    "plt.xlabel('Tahmin Edilen Değer')\n",
    "plt.ylabel('Gerçek Değer')\n",
    "plt.show()"
   ]
  },
  {
   "cell_type": "code",
   "execution_count": null,
   "id": "0020cbba-155f-4737-97fe-e911630c4729",
   "metadata": {},
   "outputs": [],
   "source": [
    "svc_params = {'C': [0.1, 1, 10, 100], \n",
    "              'gamma': [1, 0.1, 0.01, 0.001]}"
   ]
  },
  {
   "cell_type": "code",
   "execution_count": null,
   "id": "24707ba8-d140-48d3-9a47-5786837a991a",
   "metadata": {},
   "outputs": [],
   "source": [
    "svc= SVC()"
   ]
  },
  {
   "cell_type": "code",
   "execution_count": null,
   "id": "1910273a-c7ff-4558-9c29-275f7e055680",
   "metadata": {},
   "outputs": [],
   "source": [
    "svc_cv = GridSearchCV(svc, svc_params, cv=5)"
   ]
  },
  {
   "cell_type": "code",
   "execution_count": null,
   "id": "f64632ab-4668-4472-b5ae-c4134f51b8ba",
   "metadata": {},
   "outputs": [],
   "source": [
    "svc_cv.fit(X_train, y_train)"
   ]
  },
  {
   "cell_type": "code",
   "execution_count": null,
   "id": "d3e8903e-fa58-4a0a-88f4-976cedc44435",
   "metadata": {},
   "outputs": [],
   "source": [
    "print(\"En iyi parametreler:\", svc_cv.best_params_)\n",
    "print(\"En iyi skor:\", svc_cv.best_score_)"
   ]
  },
  {
   "cell_type": "code",
   "execution_count": null,
   "id": "0d19f725-1041-4eeb-8eae-f7a7b3c16f81",
   "metadata": {},
   "outputs": [],
   "source": [
    "test_score = svc_cv.score(X_test, y_test)\n",
    "print(\"Test seti skoru:\", test_score)"
   ]
  },
  {
   "cell_type": "code",
   "execution_count": null,
   "id": "0412041e-2193-4030-8719-2fd537b1e4dc",
   "metadata": {},
   "outputs": [],
   "source": [
    "svc = SVC(C = 10, gamma = 0.01)"
   ]
  },
  {
   "cell_type": "code",
   "execution_count": null,
   "id": "3ed24abd-3444-4702-b492-64aa57d1dd70",
   "metadata": {},
   "outputs": [],
   "source": [
    "svc.fit(X_train, y_train)"
   ]
  },
  {
   "cell_type": "code",
   "execution_count": null,
   "id": "06ed3c7b-f476-4cdd-95c5-1db633750f01",
   "metadata": {},
   "outputs": [],
   "source": [
    "y_pred = svc.predict(X_test)"
   ]
  },
  {
   "cell_type": "code",
   "execution_count": null,
   "id": "518c3342-2d56-4866-a594-580e78bde934",
   "metadata": {},
   "outputs": [],
   "source": [
    "accuracy = accuracy_score(y_test, y_pred)\n",
    "print(\"Accuracy:\", accuracy)"
   ]
  },
  {
   "cell_type": "code",
   "execution_count": null,
   "id": "42d67a61-9363-4333-8c69-ca3edd16c05f",
   "metadata": {},
   "outputs": [],
   "source": [
    "from sklearn.metrics import confusion_matrix\n",
    "conf_matrix = confusion_matrix(y_test, y_pred)\n",
    "print(\"Confusion Matrix:\")\n",
    "print(conf_matrix)"
   ]
  },
  {
   "cell_type": "code",
   "execution_count": null,
   "id": "cb175217-1e2b-4687-8140-71450d6b7e40",
   "metadata": {},
   "outputs": [],
   "source": [
    "plt.imshow(conf_matrix, interpolation='nearest', cmap=plt.cm.Blues)\n",
    "plt.title('Confusion Matrix (Tuned SVC)')\n",
    "plt.colorbar()\n",
    "sınıf = ['İyi Huylu (0)', 'Kötü Huylu (1)']\n",
    "plt.xticks(np.arange(len(sınıf)), sınıf)\n",
    "plt.yticks(np.arange(len(sınıf)), sınıf)\n",
    "for i in range(len(sınıf)):\n",
    "    for j in range(len(sınıf)):\n",
    "        plt.text(j, i, str(conf_matrix[i, j]), horizontalalignment='center', color='white' if conf_matrix[i, j] > conf_matrix.max() / 2 else 'black')\n",
    "\n",
    "plt.xlabel('Tahmin Edilen Değer')\n",
    "plt.ylabel('Gerçek Değer')\n",
    "plt.show()"
   ]
  },
  {
   "cell_type": "code",
   "execution_count": null,
   "id": "bf0d720a-cb6e-41f7-9c02-2026d7292985",
   "metadata": {},
   "outputs": [],
   "source": [
    "mlpc_model = MLPClassifier()"
   ]
  },
  {
   "cell_type": "code",
   "execution_count": null,
   "id": "87ff9861-ee11-45b6-9043-ddb17b0a3a18",
   "metadata": {},
   "outputs": [],
   "source": [
    "mlpc_model.fit(X_train, y_train)"
   ]
  },
  {
   "cell_type": "code",
   "execution_count": null,
   "id": "13e75673-17e3-4f46-8e23-6f490d4c5ea3",
   "metadata": {},
   "outputs": [],
   "source": [
    "y_pred = mlpc_model.predict(X_test)"
   ]
  },
  {
   "cell_type": "code",
   "execution_count": null,
   "id": "a8941afa-4900-459f-8afb-74bb6ed4bcdd",
   "metadata": {},
   "outputs": [],
   "source": [
    "accuracy = accuracy_score(y_test, y_pred)\n",
    "print(\"Accuracy:\", accuracy)"
   ]
  },
  {
   "cell_type": "code",
   "execution_count": null,
   "id": "13c6dc71-cfbc-41cf-b6ce-6f6a2dccf86c",
   "metadata": {},
   "outputs": [],
   "source": [
    "from sklearn.metrics import confusion_matrix\n",
    "conf_matrix = confusion_matrix(y_test, y_pred)\n",
    "print(\"Confusion Matrix:\")\n",
    "print(conf_matrix)"
   ]
  },
  {
   "cell_type": "code",
   "execution_count": null,
   "id": "a1dad5f5-cd75-434e-a99b-a41a61be5de2",
   "metadata": {},
   "outputs": [],
   "source": [
    "plt.imshow(conf_matrix, interpolation='nearest', cmap=plt.cm.Blues)\n",
    "plt.title('Confusion Matrix (MLPC)')\n",
    "plt.colorbar()\n",
    "sınıf = ['İyi Huylu (0)', 'Kötü Huylu (1)']\n",
    "plt.xticks(np.arange(len(sınıf)), sınıf)\n",
    "plt.yticks(np.arange(len(sınıf)), sınıf)\n",
    "for i in range(len(sınıf)):\n",
    "    for j in range(len(sınıf)):\n",
    "        plt.text(j, i, str(conf_matrix[i, j]), horizontalalignment='center', color='white' if conf_matrix[i, j] > conf_matrix.max() / 2 else 'black')\n",
    "\n",
    "plt.xlabel('Tahmin Edilen Değer')\n",
    "plt.ylabel('Gerçek Değer')\n",
    "plt.show()"
   ]
  },
  {
   "cell_type": "code",
   "execution_count": null,
   "id": "9181c228-0506-473a-bca3-07147c78cfec",
   "metadata": {},
   "outputs": [],
   "source": [
    "mlpc_params = {\n",
    "    'hidden_layer_sizes': [(100,), (50,), (50, 50)],\n",
    "    'activation': ['relu', 'tanh', 'logistic'],\n",
    "    'solver': ['sgd', 'adam'],\n",
    "    'alpha': [0.0001, 0.05],\n",
    "    'learning_rate': ['constant','adaptive']\n",
    "}"
   ]
  },
  {
   "cell_type": "code",
   "execution_count": null,
   "id": "db75d9e9-7729-43fb-8cb7-0768029906b1",
   "metadata": {},
   "outputs": [],
   "source": [
    "mlpc = MLPClassifier()"
   ]
  },
  {
   "cell_type": "code",
   "execution_count": null,
   "id": "d168f87e-22d8-4f66-bfc2-aab788b58532",
   "metadata": {},
   "outputs": [],
   "source": [
    "mlpc_cv = GridSearchCV(mlpc, mlpc_params, cv=5)"
   ]
  },
  {
   "cell_type": "code",
   "execution_count": null,
   "id": "e559e99b-d2ff-4f96-808b-e041defb6dc7",
   "metadata": {},
   "outputs": [],
   "source": [
    "mlpc_cv.fit(X_train, y_train)"
   ]
  },
  {
   "cell_type": "code",
   "execution_count": null,
   "id": "2a072098-5541-4bd4-9007-3c2571ff9cf3",
   "metadata": {},
   "outputs": [],
   "source": [
    "print(\"En iyi parametreler:\", mlpc_cv.best_params_)\n",
    "print(\"En iyi skor:\", mlpc_cv.best_score_)\n",
    "test_score = mlpc_cv.score(X_test, y_test)\n",
    "print(\"Test seti skoru:\", test_score)"
   ]
  },
  {
   "cell_type": "code",
   "execution_count": null,
   "id": "339e1798-7504-46f7-bf1e-05dece29299f",
   "metadata": {},
   "outputs": [],
   "source": [
    "mlpc = MLPClassifier(activation = \"tanh\", alpha = 0.05, hidden_layer_sizes = (50, 50), learning_rate = \"constant\", solver = \"adam\")"
   ]
  },
  {
   "cell_type": "code",
   "execution_count": null,
   "id": "f08b2491-647e-4192-900a-673fd72d4d2f",
   "metadata": {},
   "outputs": [],
   "source": [
    "mlpc.fit(X_train, y_train)"
   ]
  },
  {
   "cell_type": "code",
   "execution_count": null,
   "id": "06a7799b-525c-494d-b67b-1463ea4a2e18",
   "metadata": {},
   "outputs": [],
   "source": [
    "y_pred = mlpc.predict(X_test)"
   ]
  },
  {
   "cell_type": "code",
   "execution_count": null,
   "id": "79ab7a4a-e6b3-4c44-b6bd-8cae729d185a",
   "metadata": {},
   "outputs": [],
   "source": [
    "accuracy = accuracy_score(y_test, y_pred)\n",
    "print(\"Accuracy:\", accuracy)"
   ]
  },
  {
   "cell_type": "code",
   "execution_count": null,
   "id": "2f0747e3-6a2b-488e-9a01-2c95def35d44",
   "metadata": {},
   "outputs": [],
   "source": [
    "from sklearn.metrics import confusion_matrix\n",
    "conf_matrix = confusion_matrix(y_test, y_pred)\n",
    "print(\"Confusion Matrix:\")\n",
    "print(conf_matrix)"
   ]
  },
  {
   "cell_type": "code",
   "execution_count": null,
   "id": "2b105fcb-dcc4-4c53-b718-ce02dec6d3a3",
   "metadata": {},
   "outputs": [],
   "source": [
    "plt.imshow(conf_matrix, interpolation='nearest', cmap=plt.cm.Blues)\n",
    "plt.title('Confusion Matrix (Tuned MLPC)')\n",
    "plt.colorbar()\n",
    "sınıf = ['İyi Huylu (0)', 'Kötü Huylu (1)']\n",
    "plt.xticks(np.arange(len(sınıf)), sınıf)\n",
    "plt.yticks(np.arange(len(sınıf)), sınıf)\n",
    "for i in range(len(sınıf)):\n",
    "    for j in range(len(sınıf)):\n",
    "        plt.text(j, i, str(conf_matrix[i, j]), horizontalalignment='center', color='white' if conf_matrix[i, j] > conf_matrix.max() / 2 else 'black')\n",
    "\n",
    "plt.xlabel('Tahmin Edilen Değer')\n",
    "plt.ylabel('Gerçek Değer')\n",
    "plt.show()"
   ]
  },
  {
   "cell_type": "code",
   "execution_count": null,
   "id": "2e592164-184b-4c08-a863-42c295517214",
   "metadata": {},
   "outputs": [],
   "source": [
    "cart_model = DecisionTreeClassifier()"
   ]
  },
  {
   "cell_type": "code",
   "execution_count": null,
   "id": "b4261798-db20-41a7-8224-142a3de03b2e",
   "metadata": {},
   "outputs": [],
   "source": [
    "cart_model.fit(X_train, y_train)"
   ]
  },
  {
   "cell_type": "code",
   "execution_count": null,
   "id": "a4f71976-432f-484e-b4f8-3c45a0fa44f3",
   "metadata": {},
   "outputs": [],
   "source": [
    "y_pred = cart_model.predict(X_test)"
   ]
  },
  {
   "cell_type": "code",
   "execution_count": null,
   "id": "b00837f4-07e1-4502-b01a-07c7b957b9fd",
   "metadata": {},
   "outputs": [],
   "source": [
    "accuracy = accuracy_score(y_test, y_pred)\n",
    "print(\"Accuracy:\", accuracy)"
   ]
  },
  {
   "cell_type": "code",
   "execution_count": null,
   "id": "f5d900d4-d116-4dd9-8f5e-9a3090ef8a55",
   "metadata": {},
   "outputs": [],
   "source": [
    "from sklearn.metrics import confusion_matrix\n",
    "conf_matrix = confusion_matrix(y_test, y_pred)\n",
    "print(\"Confusion Matrix:\")\n",
    "print(conf_matrix)"
   ]
  },
  {
   "cell_type": "code",
   "execution_count": null,
   "id": "b0d5cd2f-20fa-4989-be0c-640dc6096e98",
   "metadata": {},
   "outputs": [],
   "source": [
    "plt.imshow(conf_matrix, interpolation='nearest', cmap=plt.cm.Blues)\n",
    "plt.title('Confusion Matrix (CART)')\n",
    "plt.colorbar()\n",
    "sınıf = ['İyi Huylu (0)', 'Kötü Huylu (1)']\n",
    "plt.xticks(np.arange(len(sınıf)), sınıf)\n",
    "plt.yticks(np.arange(len(sınıf)), sınıf)\n",
    "for i in range(len(sınıf)):\n",
    "    for j in range(len(sınıf)):\n",
    "        plt.text(j, i, str(conf_matrix[i, j]), horizontalalignment='center', color='white' if conf_matrix[i, j] > conf_matrix.max() / 2 else 'black')\n",
    "\n",
    "plt.xlabel('Tahmin Edilen Değer')\n",
    "plt.ylabel('Gerçek Değer')\n",
    "plt.show()"
   ]
  },
  {
   "cell_type": "code",
   "execution_count": null,
   "id": "725bb75b-4196-4159-b272-495a6f02a043",
   "metadata": {},
   "outputs": [],
   "source": [
    "cart_params = {\n",
    "    'max_depth': [None, 5, 10, 15],\n",
    "    'min_samples_split': [2, 5, 10],\n",
    "    'min_samples_leaf': [1, 2, 4]\n",
    "}"
   ]
  },
  {
   "cell_type": "code",
   "execution_count": null,
   "id": "a60396b4-9a6c-4f32-b214-717ce0bfee31",
   "metadata": {},
   "outputs": [],
   "source": [
    "cart = DecisionTreeClassifier()"
   ]
  },
  {
   "cell_type": "code",
   "execution_count": null,
   "id": "1f26d476-e84c-4219-bc2d-32e0fa476024",
   "metadata": {},
   "outputs": [],
   "source": [
    "cart_cv = GridSearchCV(cart, cart_params, cv=5)"
   ]
  },
  {
   "cell_type": "code",
   "execution_count": null,
   "id": "2c0e55a4-e462-4750-bb7e-d05a780dec88",
   "metadata": {},
   "outputs": [],
   "source": [
    "cart_cv.fit(X_train, y_train)"
   ]
  },
  {
   "cell_type": "code",
   "execution_count": null,
   "id": "efc63b93-965e-4229-9693-2edbf6ca54b9",
   "metadata": {},
   "outputs": [],
   "source": [
    "print(\"En iyi parametreler:\", cart_cv.best_params_)\n",
    "print(\"En iyi skor:\", cart_cv.best_score_)\n",
    "test_score = cart_cv.score(X_test, y_test)\n",
    "print(\"Test seti skoru:\", test_score)"
   ]
  },
  {
   "cell_type": "code",
   "execution_count": null,
   "id": "26d9a1a9-50f8-4865-b427-09d2c2d57a16",
   "metadata": {},
   "outputs": [],
   "source": [
    "cart = DecisionTreeClassifier(max_depth = 10, min_samples_leaf = 2, min_samples_split = 10)"
   ]
  },
  {
   "cell_type": "code",
   "execution_count": null,
   "id": "86af9f7e-0540-4db6-9aa4-e471faab2617",
   "metadata": {},
   "outputs": [],
   "source": [
    "cart.fit(X_train, y_train)"
   ]
  },
  {
   "cell_type": "code",
   "execution_count": null,
   "id": "6344dd31-e4d6-4863-93e8-08b84c4f0051",
   "metadata": {},
   "outputs": [],
   "source": [
    "y_pred = cart.predict(X_test)"
   ]
  },
  {
   "cell_type": "code",
   "execution_count": null,
   "id": "7bdfbe2d-68ac-43b4-8fb4-fa61c7dfc4a1",
   "metadata": {},
   "outputs": [],
   "source": [
    "accuracy = accuracy_score(y_test, y_pred)\n",
    "print(\"Accuracy:\", accuracy)"
   ]
  },
  {
   "cell_type": "code",
   "execution_count": null,
   "id": "75de9e66-15f9-4905-a0a8-7451458d7559",
   "metadata": {},
   "outputs": [],
   "source": [
    "from sklearn.metrics import confusion_matrix\n",
    "conf_matrix = confusion_matrix(y_test, y_pred)\n",
    "print(\"Confusion Matrix:\")\n",
    "print(conf_matrix)"
   ]
  },
  {
   "cell_type": "code",
   "execution_count": null,
   "id": "c69acafb-8c6d-41ac-83ff-048c9f3a692e",
   "metadata": {},
   "outputs": [],
   "source": [
    "plt.imshow(conf_matrix, interpolation='nearest', cmap=plt.cm.Blues)\n",
    "plt.title('Confusion Matrix (Tuned CART)')\n",
    "plt.colorbar()\n",
    "sınıf = ['İyi Huylu (0)', 'Kötü Huylu (1)']\n",
    "plt.xticks(np.arange(len(sınıf)), sınıf)\n",
    "plt.yticks(np.arange(len(sınıf)), sınıf)\n",
    "for i in range(len(sınıf)):\n",
    "    for j in range(len(sınıf)):\n",
    "        plt.text(j, i, str(conf_matrix[i, j]), horizontalalignment='center', color='white' if conf_matrix[i, j] > conf_matrix.max() / 2 else 'black')\n",
    "\n",
    "plt.xlabel('Tahmin Edilen Değer')\n",
    "plt.ylabel('Gerçek Değer')\n",
    "plt.show()"
   ]
  },
  {
   "cell_type": "code",
   "execution_count": null,
   "id": "f5578c35-68cb-4a40-8835-8c0ef8030c7e",
   "metadata": {},
   "outputs": [],
   "source": [
    "rf_model = RandomForestClassifier()"
   ]
  },
  {
   "cell_type": "code",
   "execution_count": null,
   "id": "a8306766-57cf-43f9-9c09-614b59e1dd0b",
   "metadata": {},
   "outputs": [],
   "source": [
    "rf_model.fit(X_train, y_train)"
   ]
  },
  {
   "cell_type": "code",
   "execution_count": null,
   "id": "95468894-2b91-422d-9ad9-8d0b55ae8ab9",
   "metadata": {},
   "outputs": [],
   "source": [
    "y_pred = rf_model.predict(X_test)"
   ]
  },
  {
   "cell_type": "code",
   "execution_count": null,
   "id": "007ad991-874a-4a6c-bf7d-ae206a9a756a",
   "metadata": {},
   "outputs": [],
   "source": [
    "accuracy = accuracy_score(y_test, y_pred)\n",
    "print(\"Accuracy:\", accuracy)"
   ]
  },
  {
   "cell_type": "code",
   "execution_count": null,
   "id": "c01f1b55-b9dc-4017-9ef4-8106dff777b2",
   "metadata": {},
   "outputs": [],
   "source": [
    "from sklearn.metrics import confusion_matrix\n",
    "conf_matrix = confusion_matrix(y_test, y_pred)\n",
    "print(\"Confusion Matrix:\")\n",
    "print(conf_matrix)"
   ]
  },
  {
   "cell_type": "code",
   "execution_count": null,
   "id": "6214e664-096f-440a-9c9e-4838a37afaa1",
   "metadata": {},
   "outputs": [],
   "source": [
    "plt.imshow(conf_matrix, interpolation='nearest', cmap=plt.cm.Blues)\n",
    "plt.title('Confusion Matrix (Random Forest)')\n",
    "plt.colorbar()\n",
    "sınıf = ['İyi Huylu (0)', 'Kötü Huylu (1)']\n",
    "plt.xticks(np.arange(len(sınıf)), sınıf)\n",
    "plt.yticks(np.arange(len(sınıf)), sınıf)\n",
    "for i in range(len(sınıf)):\n",
    "    for j in range(len(sınıf)):\n",
    "        plt.text(j, i, str(conf_matrix[i, j]), horizontalalignment='center', color='white' if conf_matrix[i, j] > conf_matrix.max() / 2 else 'black')\n",
    "\n",
    "plt.xlabel('Tahmin Edilen Değer')\n",
    "plt.ylabel('Gerçek Değer')\n",
    "plt.show()"
   ]
  },
  {
   "cell_type": "code",
   "execution_count": null,
   "id": "274b4573-c8bc-45e5-a72a-bf5b81c29fd1",
   "metadata": {},
   "outputs": [],
   "source": [
    "rf_params = {\n",
    "    'n_estimators': [100, 300, 500],\n",
    "    'max_depth': [None, 5, 10, 15],\n",
    "    'min_samples_split': [2, 5, 10],\n",
    "    'min_samples_leaf': [1, 2, 4]\n",
    "}"
   ]
  },
  {
   "cell_type": "code",
   "execution_count": null,
   "id": "fa35fcd4-5404-46a0-bdaf-6dee008b9525",
   "metadata": {},
   "outputs": [],
   "source": [
    "rf = RandomForestClassifier()"
   ]
  },
  {
   "cell_type": "code",
   "execution_count": null,
   "id": "0f87d9aa-c6db-44f2-b1dc-803d6d0313a9",
   "metadata": {},
   "outputs": [],
   "source": [
    "rf_cv = GridSearchCV(rf, rf_params, cv=5)"
   ]
  },
  {
   "cell_type": "code",
   "execution_count": null,
   "id": "162d9b48-7578-4077-a8a5-cf85cf8b2d5a",
   "metadata": {},
   "outputs": [],
   "source": [
    "rf_cv.fit(X_train, y_train)"
   ]
  },
  {
   "cell_type": "code",
   "execution_count": null,
   "id": "70fa4508-d983-45da-b27a-7e6bb047febe",
   "metadata": {},
   "outputs": [],
   "source": [
    "print(\"En iyi parametreler:\", rf_cv.best_params_)\n",
    "print(\"En iyi skor:\", rf_cv.best_score_)\n",
    "test_score = rf_cv.score(X_test, y_test)\n",
    "print(\"Test seti skoru:\", test_score)"
   ]
  },
  {
   "cell_type": "code",
   "execution_count": null,
   "id": "ec1e15ba-417b-4e6b-ae32-04bc8f1c613a",
   "metadata": {},
   "outputs": [],
   "source": [
    "rf = RandomForestClassifier(max_depth = None, min_samples_leaf = 1, min_samples_split = 2, n_estimators = 100)"
   ]
  },
  {
   "cell_type": "code",
   "execution_count": null,
   "id": "9f14de21-9ce9-43bb-b74b-b72ffbf61acc",
   "metadata": {},
   "outputs": [],
   "source": [
    "rf.fit(X_train, y_train)"
   ]
  },
  {
   "cell_type": "code",
   "execution_count": null,
   "id": "92ade85e-a916-4e19-a035-be96137c1276",
   "metadata": {},
   "outputs": [],
   "source": [
    "y_pred = rf.predict(X_test)"
   ]
  },
  {
   "cell_type": "code",
   "execution_count": null,
   "id": "4d0e2179-026c-4574-91a0-be9ddc1288e5",
   "metadata": {},
   "outputs": [],
   "source": [
    "accuracy = accuracy_score(y_test, y_pred)\n",
    "print(\"Accuracy:\", accuracy)"
   ]
  },
  {
   "cell_type": "code",
   "execution_count": null,
   "id": "3c6eb048-7a82-4946-8900-119c8dbadb5d",
   "metadata": {},
   "outputs": [],
   "source": [
    "from sklearn.metrics import confusion_matrix\n",
    "conf_matrix = confusion_matrix(y_test, y_pred)\n",
    "print(\"Confusion Matrix:\")\n",
    "print(conf_matrix)"
   ]
  },
  {
   "cell_type": "code",
   "execution_count": null,
   "id": "0268e669-4fc7-4ca0-8ebe-96db29d45cb7",
   "metadata": {},
   "outputs": [],
   "source": [
    "plt.imshow(conf_matrix, interpolation='nearest', cmap=plt.cm.Blues)\n",
    "plt.title('Confusion Matrix (Tuned Random Forest)')\n",
    "plt.colorbar()\n",
    "sınıf = ['İyi Huylu (0)', 'Kötü Huylu (1)']\n",
    "plt.xticks(np.arange(len(sınıf)), sınıf)\n",
    "plt.yticks(np.arange(len(sınıf)), sınıf)\n",
    "for i in range(len(sınıf)):\n",
    "    for j in range(len(sınıf)):\n",
    "        plt.text(j, i, str(conf_matrix[i, j]), horizontalalignment='center', color='white' if conf_matrix[i, j] > conf_matrix.max() / 2 else 'black')\n",
    "\n",
    "plt.xlabel('Tahmin Edilen Değer')\n",
    "plt.ylabel('Gerçek Değer')\n",
    "plt.show()"
   ]
  },
  {
   "cell_type": "code",
   "execution_count": null,
   "id": "b0207599-4924-45bb-9efa-b3c4f60078ae",
   "metadata": {},
   "outputs": [],
   "source": [
    "gbc_model = GradientBoostingClassifier()"
   ]
  },
  {
   "cell_type": "code",
   "execution_count": null,
   "id": "28179932-ed72-4cf2-af7b-eae2d9b7b972",
   "metadata": {},
   "outputs": [],
   "source": [
    "gbc_model.fit(X_train, y_train)"
   ]
  },
  {
   "cell_type": "code",
   "execution_count": null,
   "id": "91a2aeb7-995d-4f37-aaf0-2265ee977388",
   "metadata": {},
   "outputs": [],
   "source": [
    "y_pred = gbc_model.predict(X_test)"
   ]
  },
  {
   "cell_type": "code",
   "execution_count": null,
   "id": "812f05f6-55a6-44cc-8d3c-10cb1a6957b6",
   "metadata": {},
   "outputs": [],
   "source": [
    "accuracy = accuracy_score(y_test, y_pred)\n",
    "print(\"Accuracy:\", accuracy)"
   ]
  },
  {
   "cell_type": "code",
   "execution_count": null,
   "id": "c80b0c5a-7988-4dd9-9388-63ef34393939",
   "metadata": {},
   "outputs": [],
   "source": [
    "from sklearn.metrics import confusion_matrix\n",
    "conf_matrix = confusion_matrix(y_test, y_pred)\n",
    "print(\"Confusion Matrix:\")\n",
    "print(conf_matrix)"
   ]
  },
  {
   "cell_type": "code",
   "execution_count": null,
   "id": "4d68af57-ea1c-45ee-961d-23fb4b3a790d",
   "metadata": {},
   "outputs": [],
   "source": [
    "plt.imshow(conf_matrix, interpolation='nearest', cmap=plt.cm.Blues)\n",
    "plt.title('Confusion Matrix (GBC)')\n",
    "plt.colorbar()\n",
    "sınıf = ['İyi Huylu (0)', 'Kötü Huylu (1)']\n",
    "plt.xticks(np.arange(len(sınıf)), sınıf)\n",
    "plt.yticks(np.arange(len(sınıf)), sınıf)\n",
    "for i in range(len(sınıf)):\n",
    "    for j in range(len(sınıf)):\n",
    "        plt.text(j, i, str(conf_matrix[i, j]), horizontalalignment='center', color='white' if conf_matrix[i, j] > conf_matrix.max() / 2 else 'black')\n",
    "\n",
    "plt.xlabel('Tahmin Edilen Değer')\n",
    "plt.ylabel('Gerçek Değer')\n",
    "plt.show()"
   ]
  },
  {
   "cell_type": "code",
   "execution_count": null,
   "id": "04babde3-fde7-473a-84a6-52c0d0050643",
   "metadata": {},
   "outputs": [],
   "source": [
    "gbc_params = {\n",
    "    'learning_rate': [0.05, 0.1, 0.2],\n",
    "    'n_estimators': [50, 100, 200],\n",
    "    'max_depth': [3, 5, 7]\n",
    "}"
   ]
  },
  {
   "cell_type": "code",
   "execution_count": null,
   "id": "7ffa22ff-9cb8-4384-ba12-41954368c024",
   "metadata": {},
   "outputs": [],
   "source": [
    "gbc = GradientBoostingClassifier()"
   ]
  },
  {
   "cell_type": "code",
   "execution_count": null,
   "id": "6efdf6c8-a3a9-4de5-b4b5-d23bb863de2b",
   "metadata": {},
   "outputs": [],
   "source": [
    "gbc_cv = GridSearchCV(gbc, gbc_params, cv=5)"
   ]
  },
  {
   "cell_type": "code",
   "execution_count": null,
   "id": "55c8e054-f42f-4ccd-8759-acefa27f1c29",
   "metadata": {},
   "outputs": [],
   "source": [
    "gbc_cv.fit(X_train, y_train)"
   ]
  },
  {
   "cell_type": "code",
   "execution_count": null,
   "id": "f595ca51-eaba-4555-ace5-a857f1a48e01",
   "metadata": {},
   "outputs": [],
   "source": [
    "print(\"En iyi parametreler:\", gbc_cv.best_params_)\n",
    "print(\"En iyi skor:\", gbc_cv.best_score_)\n",
    "test_score = gbc_cv.score(X_test, y_test)\n",
    "print(\"Test seti skoru:\", test_score)"
   ]
  },
  {
   "cell_type": "code",
   "execution_count": null,
   "id": "06138bf0-67b2-46b5-b4af-d74dcdf27808",
   "metadata": {},
   "outputs": [],
   "source": [
    "gbc = GradientBoostingClassifier(learning_rate =  0.2, max_depth = 3, n_estimators = 100)"
   ]
  },
  {
   "cell_type": "code",
   "execution_count": null,
   "id": "1f8a49d4-8b9b-4888-84da-416e6f0bbf59",
   "metadata": {},
   "outputs": [],
   "source": [
    "gbc.fit(X_train, y_train)"
   ]
  },
  {
   "cell_type": "code",
   "execution_count": null,
   "id": "c7d91f6d-defb-4977-a9d8-341332bb7b6d",
   "metadata": {},
   "outputs": [],
   "source": [
    "y_pred = gbc.predict(X_test)"
   ]
  },
  {
   "cell_type": "code",
   "execution_count": null,
   "id": "d7243123-6ce2-44a2-9ad6-9f2e95da3881",
   "metadata": {},
   "outputs": [],
   "source": [
    "accuracy = accuracy_score(y_test, y_pred)\n",
    "print(\"Accuracy:\", accuracy)"
   ]
  },
  {
   "cell_type": "code",
   "execution_count": null,
   "id": "ee5c32aa-1832-4c64-a75e-ec79437e41a2",
   "metadata": {},
   "outputs": [],
   "source": [
    "from sklearn.metrics import confusion_matrix\n",
    "conf_matrix = confusion_matrix(y_test, y_pred)\n",
    "print(\"Confusion Matrix:\")\n",
    "print(conf_matrix)"
   ]
  },
  {
   "cell_type": "code",
   "execution_count": null,
   "id": "93eab878-5406-47d5-921b-5b9fa495cdf3",
   "metadata": {},
   "outputs": [],
   "source": [
    "plt.imshow(conf_matrix, interpolation='nearest', cmap=plt.cm.Blues)\n",
    "plt.title('Confusion Matrix (Tuned GBC)')\n",
    "plt.colorbar()\n",
    "sınıf = ['İyi Huylu (0)', 'Kötü Huylu (1)']\n",
    "plt.xticks(np.arange(len(sınıf)), sınıf)\n",
    "plt.yticks(np.arange(len(sınıf)), sınıf)\n",
    "for i in range(len(sınıf)):\n",
    "    for j in range(len(sınıf)):\n",
    "        plt.text(j, i, str(conf_matrix[i, j]), horizontalalignment='center', color='white' if conf_matrix[i, j] > conf_matrix.max() / 2 else 'black')\n",
    "\n",
    "plt.xlabel('Tahmin Edilen Değer')\n",
    "plt.ylabel('Gerçek Değer')\n",
    "plt.show()"
   ]
  },
  {
   "cell_type": "code",
   "execution_count": null,
   "id": "8ad50500-bd21-4e05-80fd-93e8047dd83f",
   "metadata": {},
   "outputs": [],
   "source": [
    "xgbc_model = XGBClassifier()"
   ]
  },
  {
   "cell_type": "code",
   "execution_count": null,
   "id": "f7cbbc5c-4e44-4760-8489-f2d8a557dc0b",
   "metadata": {},
   "outputs": [],
   "source": [
    "xgbc_model.fit(X_train,y_train)"
   ]
  },
  {
   "cell_type": "code",
   "execution_count": null,
   "id": "8d8377ec-7dd9-4406-a91c-d955d1c882ee",
   "metadata": {},
   "outputs": [],
   "source": [
    "y_pred = xgbc_model.predict(X_test)"
   ]
  },
  {
   "cell_type": "code",
   "execution_count": null,
   "id": "7c4855a4-e1cb-4961-a1a2-91632796a1cc",
   "metadata": {},
   "outputs": [],
   "source": [
    "accuracy = accuracy_score(y_test, y_pred)\n",
    "print(\"Accuracy:\", accuracy)"
   ]
  },
  {
   "cell_type": "code",
   "execution_count": null,
   "id": "ba8ad389-c8d2-40b9-8c16-bb01bdfb40c6",
   "metadata": {},
   "outputs": [],
   "source": [
    "from sklearn.metrics import confusion_matrix\n",
    "conf_matrix = confusion_matrix(y_test, y_pred)\n",
    "print(\"Confusion Matrix:\")\n",
    "print(conf_matrix)"
   ]
  },
  {
   "cell_type": "code",
   "execution_count": null,
   "id": "74f44170-5436-4876-ae45-fe21b1783cdd",
   "metadata": {},
   "outputs": [],
   "source": [
    "plt.imshow(conf_matrix, interpolation='nearest', cmap=plt.cm.Blues)\n",
    "plt.title('Confusion Matrix (XGBC)')\n",
    "plt.colorbar()\n",
    "sınıf = ['İyi Huylu (0)', 'Kötü Huylu (1)']\n",
    "plt.xticks(np.arange(len(sınıf)), sınıf)\n",
    "plt.yticks(np.arange(len(sınıf)), sınıf)\n",
    "for i in range(len(sınıf)):\n",
    "    for j in range(len(sınıf)):\n",
    "        plt.text(j, i, str(conf_matrix[i, j]), horizontalalignment='center', color='white' if conf_matrix[i, j] > conf_matrix.max() / 2 else 'black')\n",
    "\n",
    "plt.xlabel('Tahmin Edilen Değer')\n",
    "plt.ylabel('Gerçek Değer')\n",
    "plt.show()"
   ]
  },
  {
   "cell_type": "code",
   "execution_count": null,
   "id": "f413de73-b276-42be-8329-8af942106f34",
   "metadata": {},
   "outputs": [],
   "source": [
    "xgbc_params = {\n",
    "    'learning_rate': [0.05, 0.1, 0.2],\n",
    "    'n_estimators': [50, 100, 200],\n",
    "    'max_depth': [3, 5, 7]\n",
    "}"
   ]
  },
  {
   "cell_type": "code",
   "execution_count": null,
   "id": "16eb257a-bd7e-4620-919b-62f554810a6e",
   "metadata": {},
   "outputs": [],
   "source": [
    "xgbc = XGBClassifier()"
   ]
  },
  {
   "cell_type": "code",
   "execution_count": null,
   "id": "f1da0e63-51c2-48dd-98c3-55699a818dcd",
   "metadata": {},
   "outputs": [],
   "source": [
    "xgbc_cv = GridSearchCV(xgbc, xgbc_params, cv=5)"
   ]
  },
  {
   "cell_type": "code",
   "execution_count": null,
   "id": "e16e9bca-5df6-45ae-b464-ef3bfc645370",
   "metadata": {},
   "outputs": [],
   "source": [
    "xgbc_cv.fit(X_train, y_train)"
   ]
  },
  {
   "cell_type": "code",
   "execution_count": null,
   "id": "9b723d00-59ef-4165-bfa0-37dd5e5e682d",
   "metadata": {},
   "outputs": [],
   "source": [
    "print(\"En iyi parametreler:\", xgbc_cv.best_params_)\n",
    "print(\"En iyi skor:\", xgbc_cv.best_score_)\n",
    "test_score = xgbc_cv.score(X_test, y_test)\n",
    "print(\"Test seti skoru:\", test_score)"
   ]
  },
  {
   "cell_type": "code",
   "execution_count": null,
   "id": "2f306f45-1d20-40c1-b1a0-137f41143dd4",
   "metadata": {},
   "outputs": [],
   "source": [
    "xgbc = XGBClassifier(learning_rate =  0.05, max_depth = 3, n_estimators = 200)"
   ]
  },
  {
   "cell_type": "code",
   "execution_count": null,
   "id": "40147a8e-134b-4538-93b7-854ceb0df2db",
   "metadata": {},
   "outputs": [],
   "source": [
    "xgbc.fit(X_train, y_train)"
   ]
  },
  {
   "cell_type": "code",
   "execution_count": null,
   "id": "db6c9fe8-bf56-44f0-ac59-1ac5099b073a",
   "metadata": {},
   "outputs": [],
   "source": [
    "y_pred = xgbc.predict(X_test)"
   ]
  },
  {
   "cell_type": "code",
   "execution_count": null,
   "id": "ecc47e35-717a-4c7f-8820-ef4590ec2237",
   "metadata": {},
   "outputs": [],
   "source": [
    "accuracy = accuracy_score(y_test, y_pred)\n",
    "print(\"Accuracy:\", accuracy)"
   ]
  },
  {
   "cell_type": "code",
   "execution_count": null,
   "id": "7b144581-787a-4475-9f9c-c986cfe38d53",
   "metadata": {},
   "outputs": [],
   "source": [
    "from sklearn.metrics import confusion_matrix\n",
    "conf_matrix = confusion_matrix(y_test, y_pred)\n",
    "print(\"Confusion Matrix:\")\n",
    "print(conf_matrix)"
   ]
  },
  {
   "cell_type": "code",
   "execution_count": null,
   "id": "fab6226e-cbcb-444f-aab6-a7d853f3df9a",
   "metadata": {},
   "outputs": [],
   "source": [
    "plt.imshow(conf_matrix, interpolation='nearest', cmap=plt.cm.Blues)\n",
    "plt.title('Confusion Matrix (Tuned XGBC)')\n",
    "plt.colorbar()\n",
    "sınıf = ['İyi Huylu (0)', 'Kötü Huylu (1)']\n",
    "plt.xticks(np.arange(len(sınıf)), sınıf)\n",
    "plt.yticks(np.arange(len(sınıf)), sınıf)\n",
    "for i in range(len(sınıf)):\n",
    "    for j in range(len(sınıf)):\n",
    "        plt.text(j, i, str(conf_matrix[i, j]), horizontalalignment='center', color='white' if conf_matrix[i, j] > conf_matrix.max() / 2 else 'black')\n",
    "\n",
    "plt.xlabel('Tahmin Edilen Değer')\n",
    "plt.ylabel('Gerçek Değer')\n",
    "plt.show()"
   ]
  },
  {
   "cell_type": "code",
   "execution_count": null,
   "id": "6e3fc5f6-fb8f-4842-a98e-794a9085b200",
   "metadata": {},
   "outputs": [],
   "source": [
    "lgbm_model = LGBMClassifier()"
   ]
  },
  {
   "cell_type": "code",
   "execution_count": null,
   "id": "2176cc45-b130-4faf-899c-986b908a3dd7",
   "metadata": {},
   "outputs": [],
   "source": [
    "lgbm_model.fit(X_train,y_train)"
   ]
  },
  {
   "cell_type": "code",
   "execution_count": null,
   "id": "92e57e85-e0a3-4fed-bec3-ac9cab872c8e",
   "metadata": {},
   "outputs": [],
   "source": [
    "y_pred = lgbm_model.predict(X_test)"
   ]
  },
  {
   "cell_type": "code",
   "execution_count": null,
   "id": "d3a559ec-b91c-46ae-844d-8eba96464b2b",
   "metadata": {},
   "outputs": [],
   "source": [
    "accuracy = accuracy_score(y_test, y_pred)\n",
    "print(\"Accuracy:\", accuracy)"
   ]
  },
  {
   "cell_type": "code",
   "execution_count": null,
   "id": "aa1f797a-dbab-40ff-a61c-fb5184f9a5bd",
   "metadata": {},
   "outputs": [],
   "source": [
    "from sklearn.metrics import confusion_matrix\n",
    "conf_matrix = confusion_matrix(y_test, y_pred)\n",
    "print(\"Confusion Matrix:\")\n",
    "print(conf_matrix)"
   ]
  },
  {
   "cell_type": "code",
   "execution_count": null,
   "id": "af41cf0b-c35d-48f2-84e9-d2dd8dc72868",
   "metadata": {},
   "outputs": [],
   "source": [
    "plt.imshow(conf_matrix, interpolation='nearest', cmap=plt.cm.Blues)\n",
    "plt.title('Confusion Matrix (LightGBM)')\n",
    "plt.colorbar()\n",
    "sınıf = ['İyi Huylu (0)', 'Kötü Huylu (1)']\n",
    "plt.xticks(np.arange(len(sınıf)), sınıf)\n",
    "plt.yticks(np.arange(len(sınıf)), sınıf)\n",
    "for i in range(len(sınıf)):\n",
    "    for j in range(len(sınıf)):\n",
    "        plt.text(j, i, str(conf_matrix[i, j]), horizontalalignment='center', color='white' if conf_matrix[i, j] > conf_matrix.max() / 2 else 'black')\n",
    "\n",
    "plt.xlabel('Tahmin Edilen Değer')\n",
    "plt.ylabel('Gerçek Değer')\n",
    "plt.show()"
   ]
  },
  {
   "cell_type": "code",
   "execution_count": null,
   "id": "d4572352-2166-45f1-b223-f6256482235d",
   "metadata": {},
   "outputs": [],
   "source": [
    "lgbm_params = {\n",
    "    'learning_rate': [0.05, 0.1, 0.2],\n",
    "    'n_estimators': [50, 100, 200],\n",
    "    'max_depth': [3, 5, 7]\n",
    "}"
   ]
  },
  {
   "cell_type": "code",
   "execution_count": null,
   "id": "e1bf1b4e-c530-43c2-8f26-58396267fc3d",
   "metadata": {},
   "outputs": [],
   "source": [
    "lgbm = LGBMClassifier()"
   ]
  },
  {
   "cell_type": "code",
   "execution_count": null,
   "id": "658dcbec-d9b1-4197-a73e-a737bfc19385",
   "metadata": {},
   "outputs": [],
   "source": [
    "lgbm_cv = GridSearchCV(lgbm, lgbm_params, cv=5)"
   ]
  },
  {
   "cell_type": "code",
   "execution_count": null,
   "id": "4fe58155-86c5-4511-83d3-9f6daa573f14",
   "metadata": {
    "scrolled": true
   },
   "outputs": [],
   "source": [
    "lgbm_cv.fit(X_train, y_train)"
   ]
  },
  {
   "cell_type": "code",
   "execution_count": null,
   "id": "7a3beed8-1fa6-42b7-88c2-c97348320336",
   "metadata": {},
   "outputs": [],
   "source": [
    "print(\"En iyi parametreler:\", lgbm_cv.best_params_)\n",
    "print(\"En iyi skor:\", lgbm_cv.best_score_)\n",
    "test_score = lgbm_cv.score(X_test, y_test)\n",
    "print(\"Test seti skoru:\", test_score)"
   ]
  },
  {
   "cell_type": "code",
   "execution_count": null,
   "id": "b94b5dd8-482f-4810-8781-b67842ab3253",
   "metadata": {},
   "outputs": [],
   "source": [
    "lgbm = LGBMClassifier(learning_rate =  0.2, max_depth = 3, n_estimators = 100)"
   ]
  },
  {
   "cell_type": "code",
   "execution_count": null,
   "id": "17a01b7a-b311-4614-8af8-120d24675bd4",
   "metadata": {
    "scrolled": true
   },
   "outputs": [],
   "source": [
    "lgbm.fit(X_train, y_train)"
   ]
  },
  {
   "cell_type": "code",
   "execution_count": null,
   "id": "d595d488-63cb-4577-abe4-a08a1251d555",
   "metadata": {},
   "outputs": [],
   "source": [
    "y_pred = lgbm.predict(X_test)"
   ]
  },
  {
   "cell_type": "code",
   "execution_count": null,
   "id": "ee66edc0-a342-4159-bed8-e4dd0754da76",
   "metadata": {},
   "outputs": [],
   "source": [
    "accuracy = accuracy_score(y_test, y_pred)\n",
    "print(\"Accuracy:\", accuracy)"
   ]
  },
  {
   "cell_type": "code",
   "execution_count": null,
   "id": "5b16e08c-0e94-468c-89bc-5f674be1a431",
   "metadata": {},
   "outputs": [],
   "source": [
    "from sklearn.metrics import confusion_matrix\n",
    "conf_matrix = confusion_matrix(y_test, y_pred)\n",
    "print(\"Confusion Matrix:\")\n",
    "print(conf_matrix)"
   ]
  },
  {
   "cell_type": "code",
   "execution_count": null,
   "id": "a033f705-01a0-4ac8-9eaf-684f94557a76",
   "metadata": {},
   "outputs": [],
   "source": [
    "plt.imshow(conf_matrix, interpolation='nearest', cmap=plt.cm.Blues)\n",
    "plt.title('Confusion Matrix (Tuned LightGBM)')\n",
    "plt.colorbar()\n",
    "sınıf = ['İyi Huylu (0)', 'Kötü Huylu (1)']\n",
    "plt.xticks(np.arange(len(sınıf)), sınıf)\n",
    "plt.yticks(np.arange(len(sınıf)), sınıf)\n",
    "for i in range(len(sınıf)):\n",
    "    for j in range(len(sınıf)):\n",
    "        plt.text(j, i, str(conf_matrix[i, j]), horizontalalignment='center', color='white' if conf_matrix[i, j] > conf_matrix.max() / 2 else 'black')\n",
    "\n",
    "plt.xlabel('Tahmin Edilen Değer')\n",
    "plt.ylabel('Gerçek Değer')\n",
    "plt.show()"
   ]
  },
  {
   "cell_type": "code",
   "execution_count": null,
   "id": "893a27dd-5585-458b-80ed-136f1344eaf3",
   "metadata": {},
   "outputs": [],
   "source": [
    "catb_model = CatBoostClassifier()"
   ]
  },
  {
   "cell_type": "code",
   "execution_count": null,
   "id": "86940441-676e-425a-bdd1-ffe9b44143aa",
   "metadata": {
    "scrolled": true
   },
   "outputs": [],
   "source": [
    "catb_model.fit(X_train,y_train)"
   ]
  },
  {
   "cell_type": "code",
   "execution_count": null,
   "id": "ab97c861-7500-4356-9c3a-4712b6dfb3c7",
   "metadata": {},
   "outputs": [],
   "source": [
    "y_pred = catb_model.predict(X_test)"
   ]
  },
  {
   "cell_type": "code",
   "execution_count": null,
   "id": "a50fd7f4-3adf-4416-bacc-1434cf09b4c2",
   "metadata": {},
   "outputs": [],
   "source": [
    "accuracy = accuracy_score(y_test, y_pred)\n",
    "print(\"Accuracy:\", accuracy)"
   ]
  },
  {
   "cell_type": "code",
   "execution_count": null,
   "id": "5067dce1-a7d4-427b-af37-c070d750a553",
   "metadata": {},
   "outputs": [],
   "source": [
    "from sklearn.metrics import confusion_matrix\n",
    "conf_matrix = confusion_matrix(y_test, y_pred)\n",
    "print(\"Confusion Matrix:\")\n",
    "print(conf_matrix)"
   ]
  },
  {
   "cell_type": "code",
   "execution_count": null,
   "id": "df62e7c0-7a65-4dba-8017-356d77c398e3",
   "metadata": {},
   "outputs": [],
   "source": [
    "plt.imshow(conf_matrix, interpolation='nearest', cmap=plt.cm.Blues)\n",
    "plt.title('Confusion Matrix (CatBoost)')\n",
    "plt.colorbar()\n",
    "sınıf = ['İyi Huylu (0)', 'Kötü Huylu (1)']\n",
    "plt.xticks(np.arange(len(sınıf)), sınıf)\n",
    "plt.yticks(np.arange(len(sınıf)), sınıf)\n",
    "for i in range(len(sınıf)):\n",
    "    for j in range(len(sınıf)):\n",
    "        plt.text(j, i, str(conf_matrix[i, j]), horizontalalignment='center', color='white' if conf_matrix[i, j] > conf_matrix.max() / 2 else 'black')\n",
    "\n",
    "plt.xlabel('Tahmin Edilen Değer')\n",
    "plt.ylabel('Gerçek Değer')\n",
    "plt.show()"
   ]
  },
  {
   "cell_type": "code",
   "execution_count": null,
   "id": "b75e12e4-9ab4-48e6-b163-087f07711995",
   "metadata": {},
   "outputs": [],
   "source": [
    "catb_params = {\n",
    "    'learning_rate': [0.05, 0.1, 0.2],\n",
    "    'iterations': [50, 100, 200],\n",
    "    'depth': [3, 5, 7]\n",
    "}"
   ]
  },
  {
   "cell_type": "code",
   "execution_count": null,
   "id": "9ade9c84-e2e8-486f-aa0d-71dd71a09519",
   "metadata": {},
   "outputs": [],
   "source": [
    "catb = CatBoostClassifier()"
   ]
  },
  {
   "cell_type": "code",
   "execution_count": null,
   "id": "a1663455-e688-4594-ab8d-4d37e590661d",
   "metadata": {},
   "outputs": [],
   "source": [
    "catb_cv = GridSearchCV(catb, catb_params, cv=5)"
   ]
  },
  {
   "cell_type": "code",
   "execution_count": null,
   "id": "3974deb3-e1bc-4f36-8a10-d59c5cfcb367",
   "metadata": {
    "scrolled": true
   },
   "outputs": [],
   "source": [
    "catb_cv.fit(X_train, y_train)"
   ]
  },
  {
   "cell_type": "code",
   "execution_count": null,
   "id": "de119b34-bfac-427e-a2d5-871bf434e215",
   "metadata": {},
   "outputs": [],
   "source": [
    "print(\"En iyi parametreler:\", catb_cv.best_params_)\n",
    "print(\"En iyi skor:\", catb_cv.best_score_)\n",
    "test_score = catb_cv.score(X_test, y_test)\n",
    "print(\"Test seti skoru:\", test_score)"
   ]
  },
  {
   "cell_type": "code",
   "execution_count": null,
   "id": "9f06846c-fc22-4b48-9468-d7605fbb1b03",
   "metadata": {},
   "outputs": [],
   "source": [
    "catb = CatBoostClassifier(depth = 3, iterations = 100, learning_rate = 0.05)"
   ]
  },
  {
   "cell_type": "code",
   "execution_count": null,
   "id": "96fef0a1-c8c1-4eeb-a54d-65de950ca1dd",
   "metadata": {},
   "outputs": [],
   "source": [
    "catb.fit(X_train, y_train)"
   ]
  },
  {
   "cell_type": "code",
   "execution_count": null,
   "id": "46044afb-cc8a-4216-96ac-fa303ffbf2f3",
   "metadata": {},
   "outputs": [],
   "source": [
    "y_pred = catb.predict(X_test)"
   ]
  },
  {
   "cell_type": "code",
   "execution_count": null,
   "id": "5133b147-e049-4ae4-8cbe-517dfb5a4263",
   "metadata": {},
   "outputs": [],
   "source": [
    "accuracy = accuracy_score(y_test, y_pred)\n",
    "print(\"Accuracy:\", accuracy)"
   ]
  },
  {
   "cell_type": "code",
   "execution_count": null,
   "id": "242fe3ae-a1fc-4bd0-be61-db97e2dadacb",
   "metadata": {},
   "outputs": [],
   "source": [
    "from sklearn.metrics import confusion_matrix\n",
    "conf_matrix = confusion_matrix(y_test, y_pred)\n",
    "print(\"Confusion Matrix:\")\n",
    "print(conf_matrix)"
   ]
  },
  {
   "cell_type": "code",
   "execution_count": null,
   "id": "de3b918b-637f-4cf4-a1df-a41930f441a0",
   "metadata": {},
   "outputs": [],
   "source": [
    "plt.imshow(conf_matrix, interpolation='nearest', cmap=plt.cm.Blues)\n",
    "plt.title('Confusion Matrix (Tuned CatBoost)')\n",
    "plt.colorbar()\n",
    "sınıf = ['İyi Huylu (0)', 'Kötü Huylu (1)']\n",
    "plt.xticks(np.arange(len(sınıf)), sınıf)\n",
    "plt.yticks(np.arange(len(sınıf)), sınıf)\n",
    "for i in range(len(sınıf)):\n",
    "    for j in range(len(sınıf)):\n",
    "        plt.text(j, i, str(conf_matrix[i, j]), horizontalalignment='center', color='white' if conf_matrix[i, j] > conf_matrix.max() / 2 else 'black')\n",
    "\n",
    "plt.xlabel('Tahmin Edilen Değer')\n",
    "plt.ylabel('Gerçek Değer')\n",
    "plt.show()"
   ]
  },
  {
   "cell_type": "code",
   "execution_count": null,
   "id": "57db214b-37d9-4337-aeed-86c73d9f5aec",
   "metadata": {},
   "outputs": [],
   "source": [
    "modeller = [\n",
    "    loj_model,\n",
    "    nb_model,\n",
    "    knn,\n",
    "    svc,\n",
    "    mlpc,\n",
    "    cart,\n",
    "    rf,\n",
    "    gbc,\n",
    "    xgbc,\n",
    "    lgbm,\n",
    "    catb,\n",
    "]\n",
    "f1_scores = {}\n",
    "\n",
    "for model in modeller:\n",
    "    isimler = model.__class__.__name__\n",
    "    y_pred = model.predict(X_test)\n",
    "    f1_score = classification_report(y_test, y_pred, output_dict=True)['weighted avg']['f1-score']\n",
    "    f1_scores[isimler] = f1_score\n",
    "for isimler, f1_score in f1_scores.items():\n",
    "    print(f\"{isimler}: F1 Score: {f1_score:.4f}\")\n",
    "\n"
   ]
  },
  {
   "cell_type": "code",
   "execution_count": null,
   "id": "55e9837d-7f57-451e-998a-da39eada2e12",
   "metadata": {},
   "outputs": [],
   "source": [
    "sonuclar_list = []\n",
    "\n",
    "for model in modeller:\n",
    "    isimler = model.__class__.__name__\n",
    "    y_pred = model.predict(X_test)\n",
    "    dogruluk = accuracy_score(y_test, y_pred)\n",
    "    sonuc = pd.DataFrame([[isimler, dogruluk * 100]], columns=[\"Modeller\", \"Accuracy\"])\n",
    "    sonuclar_list.append(sonuc)\n",
    "sonuclar = pd.concat(sonuclar_list, ignore_index=True)"
   ]
  },
  {
   "cell_type": "code",
   "execution_count": null,
   "id": "4527d917-a46e-424e-8ef1-939be456c2a3",
   "metadata": {},
   "outputs": [],
   "source": [
    "sonuclar = sonuclar.sort_values(by='Accuracy', ascending=True)\n",
    "unique_accuracy_values = sonuclar['Accuracy'].unique()\n",
    "colors = sns.color_palette('viridis', len(unique_accuracy_values))\n",
    "color_dict = {acc: color for acc, color in zip(unique_accuracy_values, colors)}\n",
    "plt.figure(figsize=(10, 6))\n",
    "for i, row in sonuclar.iterrows():\n",
    "    plt.barh(row['Modeller'], row['Accuracy'], color=color_dict[row['Accuracy']])\n",
    "plt.xlabel('Accuracy%')\n",
    "plt.title('Modellerin Doğruluk Oranları')\n",
    "plt.show()"
   ]
  },
  {
   "cell_type": "code",
   "execution_count": null,
   "id": "0fea2d3c-b8ef-4c9f-ae1e-9e94269f51f5",
   "metadata": {},
   "outputs": [],
   "source": [
    "# X = df[['concavity_mean']]  \n",
    "# y = df['target']  \n",
    "# model = gbm_tuned \n",
    "# model.fit(X, y)  \n",
    "# value = 0.546\n",
    "# predicted_value = model.predict([[value]])  \n",
    "# print(predicted_value)"
   ]
  },
  {
   "cell_type": "code",
   "execution_count": null,
   "id": "804c2cef-35b3-457c-b9ce-e9c6b3360f5e",
   "metadata": {},
   "outputs": [],
   "source": [
    "from sklearn.model_selection import learning_curve\n",
    "train_sizes, train_scores, test_scores = learning_curve(loj_model, X, y, train_sizes=np.linspace(0.1, 1.0, 10), cv=5)\n",
    "\n",
    "# Learning curve'ü çizme\n",
    "train_scores_mean = np.mean(train_scores, axis=1)\n",
    "test_scores_mean = np.mean(test_scores, axis=1)\n",
    "\n",
    "plt.figure()\n",
    "plt.title(\"Learning Curve\")\n",
    "plt.xlabel(\"Training examples\")\n",
    "plt.ylabel(\"Score\")\n",
    "\n",
    "plt.grid()\n",
    "\n",
    "plt.plot(train_sizes, train_scores_mean, 'o-', color=\"r\", label=\"Training score\")\n",
    "plt.plot(train_sizes, test_scores_mean, 'o-', color=\"g\", label=\"Cross-validation score\")\n",
    "\n",
    "plt.legend(loc=\"best\")\n",
    "\n",
    "plt.show()"
   ]
  },
  {
   "cell_type": "code",
   "execution_count": null,
   "id": "42d14930-30c4-49de-ad13-2d6e77f71d25",
   "metadata": {},
   "outputs": [],
   "source": [
    "importance = pd.DataFrame({\"Importance\": np.abs(loj_model.coef_[0])}, index=X.columns)\n",
    "\n",
    "# Değişken önem düzeylerini sıralama\n",
    "importance_sorted = importance.sort_values(by=\"Importance\", ascending=True)\n",
    "colors = plt.cm.viridis(np.linspace(0, 1, len(importance_sorted)))\n",
    "\n",
    "# Değişken önem düzeylerini görselleştirme\n",
    "plt.figure(figsize=(10, 6))\n",
    "plt.barh(importance_sorted.index, importance_sorted[\"Importance\"], color=colors)\n",
    "plt.xlabel(\"Değişken Önem Düzeyleri\")\n",
    "plt.title(\"Lojistik Regresyon Değişken Önemleri\")\n",
    "plt.show()"
   ]
  },
  {
   "cell_type": "code",
   "execution_count": null,
   "id": "6742f749-4333-478c-b9ed-20037b76b98b",
   "metadata": {},
   "outputs": [],
   "source": []
  }
 ],
 "metadata": {
  "kernelspec": {
   "display_name": "Python 3 (ipykernel)",
   "language": "python",
   "name": "python3"
  },
  "language_info": {
   "codemirror_mode": {
    "name": "ipython",
    "version": 3
   },
   "file_extension": ".py",
   "mimetype": "text/x-python",
   "name": "python",
   "nbconvert_exporter": "python",
   "pygments_lexer": "ipython3",
   "version": "3.11.7"
  }
 },
 "nbformat": 4,
 "nbformat_minor": 5
}
